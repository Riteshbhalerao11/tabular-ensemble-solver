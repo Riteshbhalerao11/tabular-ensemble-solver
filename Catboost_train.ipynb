{
 "cells": [
  {
   "cell_type": "code",
   "execution_count": 1,
   "id": "bb4e4714-4175-4a3d-9faa-16233e3d03dd",
   "metadata": {},
   "outputs": [],
   "source": [
    "import warnings\n",
    "from optuna.exceptions import ExperimentalWarning\n",
    "\n",
    "warnings.filterwarnings(\"ignore\", category=ExperimentalWarning)"
   ]
  },
  {
   "cell_type": "code",
   "execution_count": 2,
   "id": "7fceb571-d9f5-425d-8fa3-04704cad0e87",
   "metadata": {},
   "outputs": [],
   "source": [
    "import optuna\n",
    "import pandas as pd\n",
    "import numpy as np\n",
    "\n",
    "from sklearn.metrics import mean_absolute_percentage_error\n",
    "from sklearn.model_selection import train_test_split\n",
    "import os\n",
    "from optuna.exceptions import TrialPruned\n",
    "import json\n",
    "import time\n",
    "\n",
    "import optuna\n",
    "from catboost import CatBoostRegressor, Pool, cv\n",
    "from optuna.integration import CatBoostPruningCallback\n",
    "from sklearn.metrics import mean_absolute_percentage_error"
   ]
  },
  {
   "cell_type": "code",
   "execution_count": 3,
   "id": "dadf5395-13fc-4c01-8a37-b09f88ecca3b",
   "metadata": {},
   "outputs": [],
   "source": [
    "def compute_volume_weighted_component_features(X):\n",
    "    \"\"\"\n",
    "    Computes individual volume-weighted features WjPk = Componentj_fraction * Componentj_Propertyk\n",
    "    for j in 1..5 and k in 1..10 (total 50 features).\n",
    "    \"\"\"\n",
    "    features = {}\n",
    "    for comp_idx in range(1, 6):  # Components 1–5\n",
    "        for prop_idx in range(1, 11):  # Properties 1–10\n",
    "            vol_col = f'Component{comp_idx}_fraction'\n",
    "            prop_col = f'Component{comp_idx}_Property{prop_idx}'\n",
    "            feat_name = f'W{comp_idx}P{prop_idx}'\n",
    "            features[feat_name] = X[vol_col] * X[prop_col]\n",
    "    return pd.DataFrame(features)"
   ]
  },
  {
   "cell_type": "code",
   "execution_count": 4,
   "id": "c6c88498-9201-4af8-b9e1-4813a3c30210",
   "metadata": {},
   "outputs": [],
   "source": [
    "def get_data(target, threshold=0.1, get_test=False):\n",
    "    X_train = pd.read_csv(f\"{BASE_PATH}/train/{target}_X.csv\")\n",
    "    y_train = pd.read_csv(f\"{BASE_PATH}/train/{target}_y.csv\")\n",
    "    X_val = pd.read_csv(f\"{BASE_PATH}/val/{target}_X.csv\")\n",
    "    y_val = pd.read_csv(f\"{BASE_PATH}/val/{target}_y.csv\")\n",
    "    X_test = pd.read_csv(\"/pscratch/sd/r/ritesh11/temp_dir/dataset/test.csv\")\n",
    "    \n",
    "    X_train = pd.concat([X_train, compute_volume_weighted_component_features(X_train)], axis=1)\n",
    "    X_val = pd.concat([X_val, compute_volume_weighted_component_features(X_val)], axis=1)\n",
    "    X_test = pd.concat([X_test,compute_volume_weighted_component_features(X_test)],axis=1)\n",
    "\n",
    "    df = pd.read_csv(os.path.join(\"/pscratch/sd/r/ritesh11/temp_dir/feature_importance\", f\"{target}.csv\"))\n",
    "    cols = df[df[\"importance\"] > threshold].iloc[:, 0].tolist()\n",
    "    # print(cols)\n",
    "    X_train = X_train[cols]\n",
    "    X_val = X_val[cols]\n",
    "    X_test = X_test[cols]\n",
    "    if get_test:\n",
    "        return X_train, y_train, X_val, y_val, X_test\n",
    "    return X_train, y_train, X_val, y_val"
   ]
  },
  {
   "cell_type": "code",
   "execution_count": 5,
   "id": "9b74308f-f0ab-4fc0-8b78-732f8fa5a9be",
   "metadata": {},
   "outputs": [],
   "source": [
    "TARGETS = [f\"BlendProperty{i}\" for i in range(1, 11)]\n",
    "BASE_PATH = \"/pscratch/sd/r/ritesh11/temp_dir/dataset/updated\"\n",
    "model_dir = \"/pscratch/sd/r/ritesh11/temp_dir/CB_models\"\n",
    "N_TRIALS = 200"
   ]
  },
  {
   "cell_type": "code",
   "execution_count": 6,
   "id": "c2b297c3-bb1e-41d3-b75d-e486424f0b88",
   "metadata": {},
   "outputs": [],
   "source": [
    "fixed_params = {\n",
    "    \"loss_function\": \"MAPE\",\n",
    "    \"eval_metric\": \"MAPE\",\n",
    "    \"verbose\": False,\n",
    "    \"random_seed\": 42,\n",
    "    \"early_stopping_rounds\": 50,\n",
    "    \"iterations\": 2000\n",
    "}"
   ]
  },
  {
   "cell_type": "code",
   "execution_count": 7,
   "id": "8ce243a9-a1e4-4714-9e97-fb3ab97d92a3",
   "metadata": {},
   "outputs": [],
   "source": [
    "from sklearn.model_selection import KFold\n",
    "\n",
    "def objective(trial, target):\n",
    "    threshold = trial.suggest_categorical(\"threshold\", [ 0.1, 0.001, 0.0001, 0.0])\n",
    "    \n",
    "    X_train, y_train, X_val, y_val = get_data(target, threshold)\n",
    "    X = pd.concat([X_train, X_val], axis=0).reset_index(drop=True)\n",
    "    y = pd.concat([y_train, y_val], axis=0).reset_index(drop=True)\n",
    "\n",
    "    param_space = {\n",
    "        \"border_count\": trial.suggest_int(\"border_count\", 48, 255),\n",
    "        \"learning_rate\": trial.suggest_float(\"learning_rate\", 1e-3, 0.2, log=True),\n",
    "        \"depth\": trial.suggest_int(\"depth\", 4, 10),\n",
    "        \"l2_leaf_reg\": trial.suggest_float(\"l2_leaf_reg\", 1.0, 100.0, log=True),\n",
    "        \"random_strength\": trial.suggest_float(\"random_strength\", 0.1, 10.0, log=True),\n",
    "        \"bagging_temperature\": trial.suggest_float(\"bagging_temperature\", 0.0, 1.0),\n",
    "        \"sampling_frequency\": trial.suggest_categorical(\"sampling_frequency\", [\"PerTree\", \"PerTreeLevel\"]),\n",
    "        \"rsm\": trial.suggest_float(\"rsm\", 0.6, 1.0),\n",
    "        \"min_data_in_leaf\": trial.suggest_int(\"min_data_in_leaf\", 2, 100),\n",
    "        \"grow_policy\": trial.suggest_categorical(\"grow_policy\", [\"SymmetricTree\", \"Depthwise\"])\n",
    "    }\n",
    "\n",
    "    model = CatBoostRegressor(**param_space, **fixed_params)\n",
    "\n",
    "    # 5-fold cross-validation\n",
    "    kf = KFold(n_splits=5, shuffle=True, random_state=42)\n",
    "    mape_scores = []\n",
    "    best_iters = []\n",
    "\n",
    "    for train_idx, val_idx in kf.split(X):\n",
    "        X_tr, X_val = X.iloc[train_idx], X.iloc[val_idx]\n",
    "        y_tr, y_val = y.iloc[train_idx], y.iloc[val_idx]\n",
    "\n",
    "        model.fit(X_tr, y_tr, eval_set=(X_val, y_val), use_best_model=True)\n",
    "        preds = model.predict(X_val)\n",
    "        mape_scores.append(mean_absolute_percentage_error(y_val, preds))\n",
    "        best_iters.append(model.get_best_iteration())\n",
    "\n",
    "    trial.set_user_attr(\"best_iter\", int(np.mean(best_iters)))\n",
    "    return np.mean(mape_scores)"
   ]
  },
  {
   "cell_type": "code",
   "execution_count": 8,
   "id": "ed36c008-0776-4b56-8023-67b83da689d6",
   "metadata": {},
   "outputs": [],
   "source": [
    "def log_callback(study, trial):\n",
    "        if trial.number % 50 == 0 and trial.value is not None:\n",
    "            print(f\"Trial {trial.number}: MAPE = {trial.value:.4f}: BEST: {study.best_trial.value:.4f}\" )"
   ]
  },
  {
   "cell_type": "code",
   "execution_count": 9,
   "id": "58590c51-575a-4bbb-8ab8-151f55aa2b10",
   "metadata": {},
   "outputs": [],
   "source": [
    "optuna.logging.set_verbosity(optuna.logging.WARNING)"
   ]
  },
  {
   "cell_type": "code",
   "execution_count": 10,
   "id": "675d34bc-8f37-4a63-a5b9-b53afe5fb44e",
   "metadata": {},
   "outputs": [],
   "source": [
    "# for target in TARGETS[4:]:\n",
    "\n",
    "#     pruner = optuna.pruners.MedianPruner(n_startup_trials=50, n_warmup_steps=10)\n",
    "#     study = optuna.create_study(direction=\"minimize\")\n",
    "#     study.optimize(lambda trial: objective(trial,target), n_trials=N_TRIALS, show_progress_bar=True, n_jobs=12)\n",
    "\n",
    "#     print(f\"\\nBest MAPE for {target}: {study.best_value:.4f}\")\n",
    "#     print(f\"Best params for {target}:\\n{study.best_params}\\n\")\n",
    "    \n",
    "#     best_iter = study.best_trial.user_attrs[\"best_iter\"]\n",
    "\n",
    "#     # Save full config\n",
    "#     complete_params = {**study.best_params, **fixed_params}\n",
    "#     complete_params[\"iterations\"] = best_iter \n",
    "    \n",
    "#     with open(os.path.join(model_dir, f\"best_params_{target}.json\"), \"w\") as f:\n",
    "#         json.dump(complete_params, f, indent=2)\n",
    "        \n",
    "#     with open(os.path.join(model_dir, f\"best_mape_{target}.txt\"), \"w\") as f:\n",
    "#         f.write(f\"{study.best_value:.6f}\\n\")"
   ]
  },
  {
   "cell_type": "code",
   "execution_count": 11,
   "id": "23e87680-bc1b-4cd9-9494-e2874d6d73ab",
   "metadata": {},
   "outputs": [],
   "source": [
    "from tqdm import tqdm"
   ]
  },
  {
   "cell_type": "code",
   "execution_count": 42,
   "id": "f08f3e1f-3130-4751-a9de-5bb188c60c31",
   "metadata": {},
   "outputs": [],
   "source": [
    "res = {}"
   ]
  },
  {
   "cell_type": "code",
   "execution_count": 48,
   "id": "b5e82189-e5c4-496e-9770-26252cdc5f95",
   "metadata": {},
   "outputs": [
    {
     "name": "stderr",
     "output_type": "stream",
     "text": [
      " 10%|█         | 1/10 [00:31<04:47, 31.99s/it]"
     ]
    },
    {
     "name": "stdout",
     "output_type": "stream",
     "text": [
      "0.13117428185430433\n"
     ]
    },
    {
     "name": "stderr",
     "output_type": "stream",
     "text": [
      " 20%|██        | 2/10 [01:04<04:18, 32.27s/it]"
     ]
    },
    {
     "name": "stdout",
     "output_type": "stream",
     "text": [
      "0.05391009442619021\n"
     ]
    },
    {
     "name": "stderr",
     "output_type": "stream",
     "text": [
      " 30%|███       | 3/10 [01:43<04:06, 35.18s/it]"
     ]
    },
    {
     "name": "stdout",
     "output_type": "stream",
     "text": [
      "0.04648343134969676\n"
     ]
    },
    {
     "name": "stderr",
     "output_type": "stream",
     "text": [
      " 40%|████      | 4/10 [02:27<03:52, 38.78s/it]"
     ]
    },
    {
     "name": "stdout",
     "output_type": "stream",
     "text": [
      "0.14469604220171295\n"
     ]
    },
    {
     "name": "stderr",
     "output_type": "stream",
     "text": [
      " 50%|█████     | 5/10 [03:26<03:50, 46.20s/it]"
     ]
    },
    {
     "name": "stdout",
     "output_type": "stream",
     "text": [
      "0.04942053582906186\n"
     ]
    },
    {
     "name": "stderr",
     "output_type": "stream",
     "text": [
      " 60%|██████    | 6/10 [03:59<02:47, 41.75s/it]"
     ]
    },
    {
     "name": "stdout",
     "output_type": "stream",
     "text": [
      "0.05288787144973862\n"
     ]
    },
    {
     "name": "stderr",
     "output_type": "stream",
     "text": [
      " 70%|███████   | 7/10 [04:56<02:20, 46.77s/it]"
     ]
    },
    {
     "name": "stdout",
     "output_type": "stream",
     "text": [
      "0.0700422803656802\n"
     ]
    },
    {
     "name": "stderr",
     "output_type": "stream",
     "text": [
      " 80%|████████  | 8/10 [05:31<01:25, 42.81s/it]"
     ]
    },
    {
     "name": "stdout",
     "output_type": "stream",
     "text": [
      "0.12734515020880255\n"
     ]
    },
    {
     "name": "stderr",
     "output_type": "stream",
     "text": [
      " 90%|█████████ | 9/10 [06:17<00:43, 43.96s/it]"
     ]
    },
    {
     "name": "stdout",
     "output_type": "stream",
     "text": [
      "0.148469942979477\n"
     ]
    },
    {
     "name": "stderr",
     "output_type": "stream",
     "text": [
      "100%|██████████| 10/10 [08:25<00:00, 50.57s/it]"
     ]
    },
    {
     "name": "stdout",
     "output_type": "stream",
     "text": [
      "0.07099013188124545\n"
     ]
    },
    {
     "name": "stderr",
     "output_type": "stream",
     "text": [
      "\n"
     ]
    }
   ],
   "source": [
    "for target in tqdm(TARGETS):\n",
    "    with open(os.path.join(model_dir, f\"best_params_{target}.json\"), \"r\") as f:\n",
    "        params = json.load(f)\n",
    "    threshold = params.pop('threshold')\n",
    "    X_train, y_train, X_val, y_val, X_test = get_data(target,threshold,get_test=True)\n",
    "    X = pd.concat([X_train,X_val], axis=0)\n",
    "    Y = pd.concat([y_train,y_val], axis=0)\n",
    "    params['iterations'] = 5000\n",
    "    params.pop('early_stopping_rounds')\n",
    "    model = CatBoostRegressor(**params)\n",
    "    train_pool = Pool(X, Y)\n",
    "    # val_pool = Pool(X_val, y_val)\n",
    "    model.fit(\n",
    "        train_pool,\n",
    "        # eval_set=val_pool,\n",
    "        # early_stopping_rounds=50,\n",
    "    )\n",
    "\n",
    "    preds = model.predict(X_val)\n",
    "    print(mean_absolute_percentage_error(y_val, preds))\n",
    "    preds = model.predict(X_test)\n",
    "    res[target] = preds"
   ]
  },
  {
   "cell_type": "code",
   "execution_count": 31,
   "id": "747103fa-9132-4f84-86b3-7ff5af57ff6c",
   "metadata": {},
   "outputs": [
    {
     "name": "stderr",
     "output_type": "stream",
     "text": [
      " 10%|█         | 1/10 [00:10<01:31, 10.12s/it]"
     ]
    },
    {
     "name": "stdout",
     "output_type": "stream",
     "text": [
      "0.21695650573432648\n"
     ]
    },
    {
     "name": "stderr",
     "output_type": "stream",
     "text": [
      " 20%|██        | 2/10 [00:21<01:25, 10.67s/it]"
     ]
    },
    {
     "name": "stdout",
     "output_type": "stream",
     "text": [
      "0.09014555536723307\n"
     ]
    },
    {
     "name": "stderr",
     "output_type": "stream",
     "text": [
      " 30%|███       | 3/10 [00:34<01:22, 11.81s/it]"
     ]
    },
    {
     "name": "stdout",
     "output_type": "stream",
     "text": [
      "0.11897244315791008\n"
     ]
    },
    {
     "name": "stderr",
     "output_type": "stream",
     "text": [
      " 40%|████      | 4/10 [00:47<01:13, 12.19s/it]"
     ]
    },
    {
     "name": "stdout",
     "output_type": "stream",
     "text": [
      "0.2789384607380301\n"
     ]
    },
    {
     "name": "stderr",
     "output_type": "stream",
     "text": [
      " 50%|█████     | 5/10 [00:59<01:01, 12.21s/it]"
     ]
    },
    {
     "name": "stdout",
     "output_type": "stream",
     "text": [
      "0.07655426675538678\n"
     ]
    },
    {
     "name": "stderr",
     "output_type": "stream",
     "text": [
      " 60%|██████    | 6/10 [01:07<00:43, 10.90s/it]"
     ]
    },
    {
     "name": "stdout",
     "output_type": "stream",
     "text": [
      "0.0858472082384661\n"
     ]
    },
    {
     "name": "stderr",
     "output_type": "stream",
     "text": [
      " 70%|███████   | 7/10 [01:22<00:36, 12.22s/it]"
     ]
    },
    {
     "name": "stdout",
     "output_type": "stream",
     "text": [
      "0.13559309037393555\n"
     ]
    },
    {
     "name": "stderr",
     "output_type": "stream",
     "text": [
      " 80%|████████  | 8/10 [01:31<00:22, 11.06s/it]"
     ]
    },
    {
     "name": "stdout",
     "output_type": "stream",
     "text": [
      "0.24921039049636892\n"
     ]
    },
    {
     "name": "stderr",
     "output_type": "stream",
     "text": [
      " 90%|█████████ | 9/10 [01:43<00:11, 11.54s/it]"
     ]
    },
    {
     "name": "stdout",
     "output_type": "stream",
     "text": [
      "0.32156191606925083\n"
     ]
    },
    {
     "name": "stderr",
     "output_type": "stream",
     "text": [
      "100%|██████████| 10/10 [02:16<00:00, 13.69s/it]"
     ]
    },
    {
     "name": "stdout",
     "output_type": "stream",
     "text": [
      "0.1424974491088939\n"
     ]
    },
    {
     "name": "stderr",
     "output_type": "stream",
     "text": [
      "\n"
     ]
    }
   ],
   "source": [
    "for target in tqdm(TARGETS):\n",
    "    with open(os.path.join(model_dir, f\"best_params_{target}.json\"), \"r\") as f:\n",
    "        params = json.load(f)\n",
    "    threshold = params.pop('threshold')\n",
    "    X_train, y_train, X_val, y_val, X_test = get_data(target,threshold,get_test=True)\n",
    "    X = pd.concat([X_train,X_val], axis=0)\n",
    "    Y = pd.concat([y_train,y_val], axis=0)\n",
    "    params['iterations'] = 3000\n",
    "    params.pop('early_stopping_rounds')\n",
    "    model = CatBoostRegressor(**params)\n",
    "    train_pool = Pool(X, Y)\n",
    "    # val_pool = Pool(X_val, y_val)\n",
    "    model.fit(\n",
    "        train_pool,\n",
    "        # eval_set=val_pool,\n",
    "        # early_stopping_rounds=50,\n",
    "    )\n",
    "\n",
    "    preds = model.predict(X_val)\n",
    "    print(mean_absolute_percentage_error(y_val, preds))\n",
    "    preds = model.predict(X_test)\n",
    "    res[target] = preds"
   ]
  },
  {
   "cell_type": "code",
   "execution_count": 49,
   "id": "7ec8b4d9-99e6-4e35-957c-5836ea245227",
   "metadata": {},
   "outputs": [],
   "source": [
    "test_df = pd.read_csv(\"/pscratch/sd/r/ritesh11/temp_dir/dataset/test.csv\")"
   ]
  },
  {
   "cell_type": "code",
   "execution_count": 50,
   "id": "727ca6b4-f411-4894-8282-5143ea9fdd45",
   "metadata": {},
   "outputs": [],
   "source": [
    "df = pd.DataFrame(res)\n",
    "df.insert(0, 'ID', test_df.index+1)"
   ]
  },
  {
   "cell_type": "code",
   "execution_count": 51,
   "id": "b6d669db-3b2d-4d6c-98bd-eee9d3cf732c",
   "metadata": {},
   "outputs": [],
   "source": [
    "df.to_csv(\"Catboost.csv\", index=False)"
   ]
  },
  {
   "cell_type": "code",
   "execution_count": 52,
   "id": "e897ad05-3354-4cca-b242-9076b6fc72cf",
   "metadata": {},
   "outputs": [
    {
     "data": {
      "text/html": [
       "<div>\n",
       "<style scoped>\n",
       "    .dataframe tbody tr th:only-of-type {\n",
       "        vertical-align: middle;\n",
       "    }\n",
       "\n",
       "    .dataframe tbody tr th {\n",
       "        vertical-align: top;\n",
       "    }\n",
       "\n",
       "    .dataframe thead th {\n",
       "        text-align: right;\n",
       "    }\n",
       "</style>\n",
       "<table border=\"1\" class=\"dataframe\">\n",
       "  <thead>\n",
       "    <tr style=\"text-align: right;\">\n",
       "      <th></th>\n",
       "      <th>ID</th>\n",
       "      <th>BlendProperty1</th>\n",
       "      <th>BlendProperty2</th>\n",
       "      <th>BlendProperty3</th>\n",
       "      <th>BlendProperty4</th>\n",
       "      <th>BlendProperty5</th>\n",
       "      <th>BlendProperty6</th>\n",
       "      <th>BlendProperty7</th>\n",
       "      <th>BlendProperty8</th>\n",
       "      <th>BlendProperty9</th>\n",
       "      <th>BlendProperty10</th>\n",
       "    </tr>\n",
       "  </thead>\n",
       "  <tbody>\n",
       "    <tr>\n",
       "      <th>0</th>\n",
       "      <td>1</td>\n",
       "      <td>0.114163</td>\n",
       "      <td>0.193414</td>\n",
       "      <td>0.638629</td>\n",
       "      <td>0.566209</td>\n",
       "      <td>0.346522</td>\n",
       "      <td>0.690940</td>\n",
       "      <td>0.632408</td>\n",
       "      <td>0.385268</td>\n",
       "      <td>-0.260213</td>\n",
       "      <td>0.290650</td>\n",
       "    </tr>\n",
       "    <tr>\n",
       "      <th>1</th>\n",
       "      <td>2</td>\n",
       "      <td>-0.765918</td>\n",
       "      <td>-0.625692</td>\n",
       "      <td>-1.090108</td>\n",
       "      <td>0.138452</td>\n",
       "      <td>-0.730278</td>\n",
       "      <td>-0.085409</td>\n",
       "      <td>-0.989583</td>\n",
       "      <td>-1.073813</td>\n",
       "      <td>-0.685128</td>\n",
       "      <td>0.046468</td>\n",
       "    </tr>\n",
       "    <tr>\n",
       "      <th>2</th>\n",
       "      <td>3</td>\n",
       "      <td>1.703392</td>\n",
       "      <td>1.128573</td>\n",
       "      <td>1.150032</td>\n",
       "      <td>0.946316</td>\n",
       "      <td>2.213660</td>\n",
       "      <td>1.890347</td>\n",
       "      <td>1.099417</td>\n",
       "      <td>2.113906</td>\n",
       "      <td>0.407142</td>\n",
       "      <td>2.143231</td>\n",
       "    </tr>\n",
       "    <tr>\n",
       "      <th>3</th>\n",
       "      <td>4</td>\n",
       "      <td>-0.402619</td>\n",
       "      <td>0.365530</td>\n",
       "      <td>0.676963</td>\n",
       "      <td>-0.232582</td>\n",
       "      <td>1.910798</td>\n",
       "      <td>-0.427672</td>\n",
       "      <td>0.692457</td>\n",
       "      <td>0.971075</td>\n",
       "      <td>0.796019</td>\n",
       "      <td>-0.994192</td>\n",
       "    </tr>\n",
       "    <tr>\n",
       "      <th>4</th>\n",
       "      <td>5</td>\n",
       "      <td>0.154717</td>\n",
       "      <td>-1.124593</td>\n",
       "      <td>1.025409</td>\n",
       "      <td>0.412171</td>\n",
       "      <td>2.177352</td>\n",
       "      <td>0.253143</td>\n",
       "      <td>1.037057</td>\n",
       "      <td>0.037106</td>\n",
       "      <td>-0.493084</td>\n",
       "      <td>0.949361</td>\n",
       "    </tr>\n",
       "    <tr>\n",
       "      <th>...</th>\n",
       "      <td>...</td>\n",
       "      <td>...</td>\n",
       "      <td>...</td>\n",
       "      <td>...</td>\n",
       "      <td>...</td>\n",
       "      <td>...</td>\n",
       "      <td>...</td>\n",
       "      <td>...</td>\n",
       "      <td>...</td>\n",
       "      <td>...</td>\n",
       "      <td>...</td>\n",
       "    </tr>\n",
       "    <tr>\n",
       "      <th>495</th>\n",
       "      <td>496</td>\n",
       "      <td>0.267798</td>\n",
       "      <td>-0.937580</td>\n",
       "      <td>1.090756</td>\n",
       "      <td>-0.213249</td>\n",
       "      <td>-0.238756</td>\n",
       "      <td>-0.673350</td>\n",
       "      <td>1.164467</td>\n",
       "      <td>-0.408846</td>\n",
       "      <td>-1.278945</td>\n",
       "      <td>-0.309958</td>\n",
       "    </tr>\n",
       "    <tr>\n",
       "      <th>496</th>\n",
       "      <td>497</td>\n",
       "      <td>-2.146254</td>\n",
       "      <td>-1.230730</td>\n",
       "      <td>-0.931392</td>\n",
       "      <td>-2.124117</td>\n",
       "      <td>-0.627643</td>\n",
       "      <td>-2.341220</td>\n",
       "      <td>-1.036523</td>\n",
       "      <td>-1.984258</td>\n",
       "      <td>-1.240633</td>\n",
       "      <td>-1.246106</td>\n",
       "    </tr>\n",
       "    <tr>\n",
       "      <th>497</th>\n",
       "      <td>498</td>\n",
       "      <td>1.954243</td>\n",
       "      <td>2.195457</td>\n",
       "      <td>0.186951</td>\n",
       "      <td>1.159278</td>\n",
       "      <td>0.231401</td>\n",
       "      <td>0.553068</td>\n",
       "      <td>0.209754</td>\n",
       "      <td>0.886467</td>\n",
       "      <td>0.333569</td>\n",
       "      <td>0.419324</td>\n",
       "    </tr>\n",
       "    <tr>\n",
       "      <th>498</th>\n",
       "      <td>499</td>\n",
       "      <td>-0.075072</td>\n",
       "      <td>0.737974</td>\n",
       "      <td>1.449392</td>\n",
       "      <td>-0.933701</td>\n",
       "      <td>-0.885327</td>\n",
       "      <td>0.048710</td>\n",
       "      <td>1.599327</td>\n",
       "      <td>0.525086</td>\n",
       "      <td>0.164130</td>\n",
       "      <td>1.215143</td>\n",
       "    </tr>\n",
       "    <tr>\n",
       "      <th>499</th>\n",
       "      <td>500</td>\n",
       "      <td>-1.001564</td>\n",
       "      <td>-1.904065</td>\n",
       "      <td>-1.918133</td>\n",
       "      <td>-1.654276</td>\n",
       "      <td>-0.026192</td>\n",
       "      <td>-1.800633</td>\n",
       "      <td>-1.914400</td>\n",
       "      <td>-1.889372</td>\n",
       "      <td>-2.339362</td>\n",
       "      <td>-0.197141</td>\n",
       "    </tr>\n",
       "  </tbody>\n",
       "</table>\n",
       "<p>500 rows × 11 columns</p>\n",
       "</div>"
      ],
      "text/plain": [
       "      ID  BlendProperty1  BlendProperty2  BlendProperty3  BlendProperty4  \\\n",
       "0      1        0.114163        0.193414        0.638629        0.566209   \n",
       "1      2       -0.765918       -0.625692       -1.090108        0.138452   \n",
       "2      3        1.703392        1.128573        1.150032        0.946316   \n",
       "3      4       -0.402619        0.365530        0.676963       -0.232582   \n",
       "4      5        0.154717       -1.124593        1.025409        0.412171   \n",
       "..   ...             ...             ...             ...             ...   \n",
       "495  496        0.267798       -0.937580        1.090756       -0.213249   \n",
       "496  497       -2.146254       -1.230730       -0.931392       -2.124117   \n",
       "497  498        1.954243        2.195457        0.186951        1.159278   \n",
       "498  499       -0.075072        0.737974        1.449392       -0.933701   \n",
       "499  500       -1.001564       -1.904065       -1.918133       -1.654276   \n",
       "\n",
       "     BlendProperty5  BlendProperty6  BlendProperty7  BlendProperty8  \\\n",
       "0          0.346522        0.690940        0.632408        0.385268   \n",
       "1         -0.730278       -0.085409       -0.989583       -1.073813   \n",
       "2          2.213660        1.890347        1.099417        2.113906   \n",
       "3          1.910798       -0.427672        0.692457        0.971075   \n",
       "4          2.177352        0.253143        1.037057        0.037106   \n",
       "..              ...             ...             ...             ...   \n",
       "495       -0.238756       -0.673350        1.164467       -0.408846   \n",
       "496       -0.627643       -2.341220       -1.036523       -1.984258   \n",
       "497        0.231401        0.553068        0.209754        0.886467   \n",
       "498       -0.885327        0.048710        1.599327        0.525086   \n",
       "499       -0.026192       -1.800633       -1.914400       -1.889372   \n",
       "\n",
       "     BlendProperty9  BlendProperty10  \n",
       "0         -0.260213         0.290650  \n",
       "1         -0.685128         0.046468  \n",
       "2          0.407142         2.143231  \n",
       "3          0.796019        -0.994192  \n",
       "4         -0.493084         0.949361  \n",
       "..              ...              ...  \n",
       "495       -1.278945        -0.309958  \n",
       "496       -1.240633        -1.246106  \n",
       "497        0.333569         0.419324  \n",
       "498        0.164130         1.215143  \n",
       "499       -2.339362        -0.197141  \n",
       "\n",
       "[500 rows x 11 columns]"
      ]
     },
     "execution_count": 52,
     "metadata": {},
     "output_type": "execute_result"
    }
   ],
   "source": [
    "df"
   ]
  },
  {
   "cell_type": "code",
   "execution_count": null,
   "id": "c04bbc59-54ed-4275-8ff5-d0127555cab7",
   "metadata": {},
   "outputs": [],
   "source": []
  }
 ],
 "metadata": {
  "kernelspec": {
   "display_name": "Python (myenv_3.12)\n",
   "language": "python",
   "name": "myenv_3.12"
  },
  "language_info": {
   "codemirror_mode": {
    "name": "ipython",
    "version": 3
   },
   "file_extension": ".py",
   "mimetype": "text/x-python",
   "name": "python",
   "nbconvert_exporter": "python",
   "pygments_lexer": "ipython3",
   "version": "3.12.11"
  }
 },
 "nbformat": 4,
 "nbformat_minor": 5
}
