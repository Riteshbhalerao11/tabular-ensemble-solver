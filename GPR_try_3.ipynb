{
 "cells": [
  {
   "cell_type": "code",
   "execution_count": 1,
   "id": "e713ae30-b2bc-4a84-8819-5a7fe183f4f4",
   "metadata": {},
   "outputs": [],
   "source": [
    "import warnings\n",
    "from sklearn.exceptions import ConvergenceWarning\n",
    "warnings.filterwarnings(\"ignore\", category=ConvergenceWarning) \n",
    "import os\n",
    "import joblib\n",
    "import optuna\n",
    "import numpy as np\n",
    "import pandas as pd\n",
    "import matplotlib.pyplot as plt\n",
    "import logging\n",
    "import joblib\n",
    "import json\n",
    "\n",
    "from sklearn.metrics import mean_absolute_percentage_error\n",
    "from sklearn.preprocessing import StandardScaler, QuantileTransformer, PowerTransformer\n",
    "from numpy.linalg import LinAlgError\n",
    "from scipy.stats import skew, kurtosis\n",
    "\n",
    "from sklearn.pipeline import Pipeline, make_pipeline\n",
    "from sklearn.gaussian_process import GaussianProcessRegressor\n",
    "from sklearn.gaussian_process.kernels import (\n",
    "    RBF,\n",
    "    Matern,\n",
    "    RationalQuadratic,\n",
    "    ExpSineSquared,\n",
    "    DotProduct,\n",
    "    WhiteKernel,\n",
    "    ConstantKernel\n",
    ")\n"
   ]
  },
  {
   "cell_type": "code",
   "execution_count": 2,
   "id": "ea9e85da-30e8-4504-9517-aad2f9e4d73a",
   "metadata": {},
   "outputs": [],
   "source": [
    "def compute_volume_weighted_component_features(X):\n",
    "    \"\"\"\n",
    "    Computes individual volume-weighted features WjPk = Componentj_fraction * Componentj_Propertyk\n",
    "    for j in 1..5 and k in 1..10 (total 50 features).\n",
    "    \"\"\"\n",
    "    features = {}\n",
    "    for comp_idx in range(1, 6):  # Components 1–5\n",
    "        for prop_idx in range(1, 11):  # Properties 1–10\n",
    "            vol_col = f'Component{comp_idx}_fraction'\n",
    "            prop_col = f'Component{comp_idx}_Property{prop_idx}'\n",
    "            feat_name = f'W{comp_idx}P{prop_idx}'\n",
    "            features[feat_name] = X[vol_col] * X[prop_col]\n",
    "    return pd.DataFrame(features)"
   ]
  },
  {
   "cell_type": "code",
   "execution_count": 3,
   "id": "0340c772-c6e9-4c9f-9775-c7aeef56ce51",
   "metadata": {},
   "outputs": [],
   "source": [
    "from sklearn.preprocessing import StandardScaler, PowerTransformer\n",
    "from scipy.stats import skew\n",
    "import numpy as np\n",
    "import os\n",
    "import pandas as pd\n",
    "\n",
    "def get_data(target, skew_thresh=0.5):\n",
    "    # Load train and val sets\n",
    "    X_train = pd.read_csv(f\"{BASE_PATH}/train/{target}_X.csv\")\n",
    "    y_train = pd.read_csv(f\"{BASE_PATH}/train/{target}_y.csv\")\n",
    "    X_val = pd.read_csv(f\"{BASE_PATH}/val/{target}_X.csv\")\n",
    "    y_val = pd.read_csv(f\"{BASE_PATH}/val/{target}_y.csv\")\n",
    "\n",
    "    # Feature engineering\n",
    "    X_train = pd.concat([X_train, compute_volume_weighted_component_features(X_train)], axis=1)\n",
    "    X_val = pd.concat([X_val, compute_volume_weighted_component_features(X_val)], axis=1)\n",
    "\n",
    "    # Feature selection\n",
    "    df = pd.read_csv(os.path.join(fi_path, f\"{target}.csv\"))\n",
    "    cols = df[df[\"importance\"] > 0.1].iloc[:, 0].tolist()\n",
    "    print(cols)\n",
    "    X_train = X_train[cols]\n",
    "    X_val = X_val[cols]\n",
    "\n",
    "    # Separate out fraction-based columns\n",
    "    fraction_cols = [col for col in X_train.columns if \"fraction\" in col.lower()]\n",
    "    non_fraction_cols = [col for col in X_train.columns if col not in fraction_cols]\n",
    "\n",
    "    # Initialize scalers\n",
    "    x_scaler = StandardScaler()\n",
    "\n",
    "    # Scale only non-fraction columns\n",
    "    X_train_scaled = X_train.copy()\n",
    "    X_val_scaled = X_val.copy()\n",
    "\n",
    "    X_train_scaled[non_fraction_cols] = x_scaler.fit_transform(X_train[non_fraction_cols])\n",
    "    X_val_scaled[non_fraction_cols] = x_scaler.transform(X_val[non_fraction_cols])\n",
    "    # Fraction columns remain unchanged\n",
    "\n",
    "    # y analysis\n",
    "    y_vals = y_train.values.ravel()\n",
    "    y_skew = skew(y_vals)\n",
    "    should_transform_y = abs(y_skew) > skew_thresh\n",
    "\n",
    "    if False:\n",
    "        y_transformer = PowerTransformer(method=\"yeo-johnson\")\n",
    "        y_train_transformed = y_transformer.fit_transform(y_train.values.reshape(-1, 1)).ravel()\n",
    "        y_val_transformed = y_transformer.transform(y_val.values.reshape(-1, 1)).ravel()\n",
    "        print(f\"⚠️ Applied PowerTransformer to target '{target}' (skewness: {y_skew:.2f})\")\n",
    "        return X_train_scaled, y_train_transformed, X_val_scaled, y_val_transformed, y_transformer\n",
    "    else:\n",
    "        print(f\"✅ No transformation applied to target '{target}' (skewness: {y_skew:.2f})\")\n",
    "        return X_train_scaled, y_vals, X_val_scaled, y_val.values.ravel(), None\n"
   ]
  },
  {
   "cell_type": "code",
   "execution_count": 4,
   "id": "0e32415c-7a37-4bb1-9e84-29698fd3ca6c",
   "metadata": {},
   "outputs": [],
   "source": [
    "TARGETS = [f\"BlendProperty{i}\" for i in range(1, 11)]\n",
    "BASE_PATH = \"/pscratch/sd/r/ritesh11/temp_dir/dataset/updated\"\n",
    "model_dir = \"/pscratch/sd/r/ritesh11/temp_dir/GPR_models\"\n",
    "fi_path = \"/pscratch/sd/r/ritesh11/temp_dir/feature_importance\"\n",
    "N_TRIALS = 200"
   ]
  },
  {
   "cell_type": "code",
   "execution_count": 5,
   "id": "91d1b5e1-2886-490d-a7e8-2d91bc28bd1a",
   "metadata": {},
   "outputs": [],
   "source": [
    "def get_kernel(trial):\n",
    "    kernel_choice = trial.suggest_categorical(\"kernel\", [\n",
    "        \"RBF\", \"Matern\", \"RQ\", \"DotProduct\"\n",
    "    ])\n",
    "\n",
    "    scale = trial.suggest_float(\"const_scale\", 0.1, 10.0)\n",
    "    bias = trial.suggest_float(\"const_bias\", 0.01, 10.0)\n",
    "\n",
    "    if kernel_choice == \"RBF\":\n",
    "        base_kernel = RBF(length_scale_bounds=(1e-5,1e5))\n",
    "\n",
    "    elif kernel_choice == \"Matern\":\n",
    "        nu = trial.suggest_categorical(\"matern_nu\", [0.5, 1.5, 2.5])\n",
    "        base_kernel = Matern(nu=nu,length_scale_bounds=(1e-5,1e5))\n",
    "\n",
    "    elif kernel_choice == \"RQ\":\n",
    "        base_kernel = RationalQuadratic(length_scale_bounds=(1e-5,1e5),alpha_bounds=(1e-5,1e5))\n",
    "\n",
    "    # elif kernel_choice == \"ExpSine\":\n",
    "    #     base_kernel = ExpSineSquared(length_scale_bounds=(1e-5,1e5),periodicity_bounds=(1e-5,1e5))\n",
    "\n",
    "    elif kernel_choice == \"DotProduct\":\n",
    "        base_kernel = DotProduct(sigma_0_bounds=(1e-5,1e5))\n",
    "\n",
    "    # Compound kernel: scale * K() + bias + noise\n",
    "    kernel = ConstantKernel(scale) * base_kernel\n",
    "    kernel += ConstantKernel(bias)\n",
    "    kernel += WhiteKernel(noise_level_bounds=(1e-5, 1e5))\n",
    "\n",
    "    return kernel"
   ]
  },
  {
   "cell_type": "code",
   "execution_count": 6,
   "id": "982f5757-d607-45fa-ad16-56d35f909098",
   "metadata": {},
   "outputs": [],
   "source": [
    "fixed_params = {\n",
    "    \"random_state\": 42,\n",
    "    \"optimizer\" : \"fmin_l_bfgs_b\"\n",
    "}"
   ]
  },
  {
   "cell_type": "code",
   "execution_count": 7,
   "id": "a8cd54f8-388b-45da-8ee5-9e9ea083fc2f",
   "metadata": {},
   "outputs": [],
   "source": [
    "def objective(trial, X_train, y_train, X_val, y_val):\n",
    "    kernel = get_kernel(trial) \n",
    "\n",
    "    params = {\n",
    "        \"kernel\": kernel,\n",
    "        \"alpha\": trial.suggest_float(\"alpha\", 1e-12, 1e-3, log=True),\n",
    "        \"n_restarts_optimizer\": trial.suggest_categorical(\"n_restarts_optimizer\", [0, 1]),  \n",
    "        \"normalize_y\": trial.suggest_categorical(\"normalize_y\", [True, False]), \n",
    "    }\n",
    "    try:\n",
    "        model = GaussianProcessRegressor(**params,**fixed_params)\n",
    "        model.fit(X_train, y_train)\n",
    "    \n",
    "        preds = model.predict(X_val)\n",
    "        score = mean_absolute_percentage_error(y_val, preds)\n",
    "        return score\n",
    "\n",
    "    except LinAlgError as e:\n",
    "        print(f\"[Trial {trial.number}] LinAlgError: {e}\")\n",
    "        raise TrialPruned(f\"Kernel matrix not PD: {e}\")\n",
    "\n",
    "    except ValueError as e:\n",
    "        print(f\"[Trial {trial.number}] ValueError: {e}\")\n",
    "        raise TrialPruned(f\"Invalid kernel or GPR configuration: {e}\")\n"
   ]
  },
  {
   "cell_type": "code",
   "execution_count": 8,
   "id": "468d9d8b-71e3-475b-b2ec-a24175bc91b8",
   "metadata": {},
   "outputs": [],
   "source": [
    "def log_callback(study, trial):\n",
    "        if trial.number % 50 == 0 and trial.value is not None:\n",
    "            print(f\"Trial {trial.number}: MAPE = {trial.value:.4f}: BEST: {study.best_trial.value:.4f}\" )\n",
    "        if trial.state.name == \"PRUNED\":\n",
    "            print(f\"⛔️ Trial {trial.number} was pruned. Reason: {trial.system_attrs.get('reason', 'unknown')}\")"
   ]
  },
  {
   "cell_type": "code",
   "execution_count": 9,
   "id": "a251b50a-36ea-4ad4-b9a4-d523e0e72094",
   "metadata": {},
   "outputs": [],
   "source": [
    "optuna.logging.set_verbosity(optuna.logging.WARNING)"
   ]
  },
  {
   "cell_type": "code",
   "execution_count": null,
   "id": "9442bd0c-c6e8-48bb-929e-3f06e21ebe87",
   "metadata": {},
   "outputs": [],
   "source": [
    "TARGETS = [TARGETS[2], TARGETS[4]]"
   ]
  },
  {
   "cell_type": "code",
   "execution_count": 10,
   "id": "5f824991-8ded-4c23-9a82-4a13778f4d28",
   "metadata": {},
   "outputs": [
    {
     "name": "stdout",
     "output_type": "stream",
     "text": [
      "['Component5_fraction', 'Component4_fraction', 'Component2_fraction', 'Component1_fraction', 'W5P1', 'W1P1', 'W4P1', 'W3P1', 'W2P1', 'Component5_Property1', 'Component4_Property1', 'W1P9', 'Component2_Property1']\n",
      "✅ No transformation applied to target 'BlendProperty1' (skewness: 0.05)\n"
     ]
    },
    {
     "data": {
      "application/vnd.jupyter.widget-view+json": {
       "model_id": "b923a6aa06804127901254e750c21dac",
       "version_major": 2,
       "version_minor": 0
      },
      "text/plain": [
       "  0%|          | 0/200 [00:00<?, ?it/s]"
      ]
     },
     "metadata": {},
     "output_type": "display_data"
    },
    {
     "name": "stdout",
     "output_type": "stream",
     "text": [
      "Trial 0: MAPE = 0.0002: BEST: 0.0001\n",
      "Trial 50: MAPE = 0.0001: BEST: 0.0001\n",
      "Trial 100: MAPE = 0.0001: BEST: 0.0001\n",
      "Trial 150: MAPE = 0.0001: BEST: 0.0001\n",
      "\n",
      "Best MAPE for BlendProperty1: 0.0001\n",
      "Best params for BlendProperty1:\n",
      "{'kernel': 'DotProduct', 'const_scale': 4.98165609550217, 'const_bias': 4.666863808277834, 'alpha': 5.6700303337686935e-05, 'n_restarts_optimizer': 1, 'normalize_y': True}\n",
      "\n",
      "['Component5_fraction', 'Component2_fraction', 'Component1_fraction', 'W5P2', 'Component4_fraction', 'W4P2', 'W3P2', 'W1P2', 'Component3_fraction', 'W2P2', 'Component4_Property2']\n",
      "✅ No transformation applied to target 'BlendProperty2' (skewness: -0.04)\n"
     ]
    },
    {
     "data": {
      "application/vnd.jupyter.widget-view+json": {
       "model_id": "c6a9b44e85744378a5811a348428905b",
       "version_major": 2,
       "version_minor": 0
      },
      "text/plain": [
       "  0%|          | 0/200 [00:00<?, ?it/s]"
      ]
     },
     "metadata": {},
     "output_type": "display_data"
    },
    {
     "name": "stdout",
     "output_type": "stream",
     "text": [
      "Trial 0: MAPE = 0.0746: BEST: 0.0066\n",
      "Trial 50: MAPE = 0.0067: BEST: 0.0065\n",
      "Trial 100: MAPE = 0.0066: BEST: 0.0065\n",
      "Trial 150: MAPE = 0.0066: BEST: 0.0065\n",
      "\n",
      "Best MAPE for BlendProperty2: 0.0065\n",
      "Best params for BlendProperty2:\n",
      "{'kernel': 'RQ', 'const_scale': 5.146159919655902, 'const_bias': 6.935031069349357, 'alpha': 4.852163095642978e-10, 'n_restarts_optimizer': 1, 'normalize_y': True}\n",
      "\n",
      "['Component2_fraction', 'Component4_fraction', 'Component5_fraction', 'W1P7', 'Component3_fraction', 'W3P7', 'W2P7', 'W2P8', 'W4P5', 'Component1_fraction', 'W4P7', 'W1P8', 'W3P5']\n",
      "⚠️ Applied PowerTransformer to target 'BlendProperty3' (skewness: -0.57)\n"
     ]
    },
    {
     "data": {
      "application/vnd.jupyter.widget-view+json": {
       "model_id": "7ea55ed95a8e409c9110f398d81a1257",
       "version_major": 2,
       "version_minor": 0
      },
      "text/plain": [
       "  0%|          | 0/200 [00:00<?, ?it/s]"
      ]
     },
     "metadata": {},
     "output_type": "display_data"
    },
    {
     "name": "stdout",
     "output_type": "stream",
     "text": [
      "Trial 0: MAPE = 0.5227: BEST: 0.5227\n",
      "Trial 50: MAPE = 0.5227: BEST: 0.5227\n",
      "Trial 100: MAPE = 0.5309: BEST: 0.5227\n",
      "Trial 150: MAPE = 0.5227: BEST: 0.5227\n",
      "\n",
      "Best MAPE for BlendProperty3: 0.5227\n",
      "Best params for BlendProperty3:\n",
      "{'kernel': 'Matern', 'const_scale': 7.234537202322755, 'const_bias': 2.649887974440875, 'matern_nu': 2.5, 'alpha': 2.057631040159246e-05, 'n_restarts_optimizer': 0, 'normalize_y': False}\n",
      "\n",
      "['Component5_fraction', 'Component2_fraction', 'Component4_fraction', 'W2P4', 'W3P4', 'Component1_fraction', 'W4P4', 'W1P4', 'W5P4', 'Component3_fraction', 'Component4_Property4', 'Component5_Property4']\n",
      "✅ No transformation applied to target 'BlendProperty4' (skewness: 0.25)\n"
     ]
    },
    {
     "data": {
      "application/vnd.jupyter.widget-view+json": {
       "model_id": "0920372d483e47b38bf69e682324b5c8",
       "version_major": 2,
       "version_minor": 0
      },
      "text/plain": [
       "  0%|          | 0/200 [00:00<?, ?it/s]"
      ]
     },
     "metadata": {},
     "output_type": "display_data"
    },
    {
     "name": "stdout",
     "output_type": "stream",
     "text": [
      "Trial 0: MAPE = 0.1079: BEST: 0.0508\n",
      "Trial 50: MAPE = 0.6431: BEST: 0.0450\n",
      "Trial 100: MAPE = 0.0450: BEST: 0.0449\n",
      "Trial 150: MAPE = 0.0449: BEST: 0.0447\n",
      "\n",
      "Best MAPE for BlendProperty4: 0.0447\n",
      "Best params for BlendProperty4:\n",
      "{'kernel': 'RQ', 'const_scale': 6.2393670879380165, 'const_bias': 2.138893777861165, 'alpha': 2.7188108123052763e-11, 'n_restarts_optimizer': 1, 'normalize_y': False}\n",
      "\n",
      "['Component2_Property5', 'Component2_fraction', 'W2P5', 'Component1_Property5', 'W1P5']\n",
      "⚠️ Applied PowerTransformer to target 'BlendProperty5' (skewness: 1.05)\n"
     ]
    },
    {
     "data": {
      "application/vnd.jupyter.widget-view+json": {
       "model_id": "c7c971b1cfae4ae9b42c4c7afaa8887e",
       "version_major": 2,
       "version_minor": 0
      },
      "text/plain": [
       "  0%|          | 0/200 [00:00<?, ?it/s]"
      ]
     },
     "metadata": {},
     "output_type": "display_data"
    },
    {
     "name": "stdout",
     "output_type": "stream",
     "text": [
      "Trial 0: MAPE = 0.9735: BEST: 0.8753\n",
      "Trial 50: MAPE = 0.6536: BEST: 0.6536\n",
      "Trial 100: MAPE = 0.6537: BEST: 0.6536\n",
      "Trial 150: MAPE = 0.6536: BEST: 0.6536\n",
      "\n",
      "Best MAPE for BlendProperty5: 0.6535\n",
      "Best params for BlendProperty5:\n",
      "{'kernel': 'Matern', 'const_scale': 6.219218073860921, 'const_bias': 4.7151452883046, 'matern_nu': 0.5, 'alpha': 8.874309826671767e-07, 'n_restarts_optimizer': 0, 'normalize_y': False}\n",
      "\n",
      "['Component5_fraction', 'Component2_fraction', 'W4P6', 'W3P6', 'W1P6', 'W5P6', 'Component4_fraction', 'W2P6', 'Component1_fraction', 'Component3_fraction', 'Component4_Property6']\n",
      "✅ No transformation applied to target 'BlendProperty6' (skewness: 0.09)\n"
     ]
    },
    {
     "data": {
      "application/vnd.jupyter.widget-view+json": {
       "model_id": "25266ac1f2c2409cae12f174444616f7",
       "version_major": 2,
       "version_minor": 0
      },
      "text/plain": [
       "  0%|          | 0/200 [00:00<?, ?it/s]"
      ]
     },
     "metadata": {},
     "output_type": "display_data"
    },
    {
     "name": "stdout",
     "output_type": "stream",
     "text": [
      "Trial 0: MAPE = 0.0002: BEST: 0.0001\n",
      "Trial 50: MAPE = 0.0001: BEST: 0.0001\n",
      "Trial 100: MAPE = 0.0001: BEST: 0.0001\n",
      "Trial 150: MAPE = 0.0001: BEST: 0.0001\n",
      "\n",
      "Best MAPE for BlendProperty6: 0.0001\n",
      "Best params for BlendProperty6:\n",
      "{'kernel': 'DotProduct', 'const_scale': 8.189185899661062, 'const_bias': 7.981105075704028, 'alpha': 2.429771785695228e-11, 'n_restarts_optimizer': 0, 'normalize_y': False}\n",
      "\n",
      "['Component2_fraction', 'Component4_fraction', 'Component5_fraction', 'W1P7', 'W4P5', 'Component3_fraction', 'W2P7', 'W4P7', 'W3P7', 'W2P8', 'Component1_fraction', 'W1P8', 'Component4_Property7', 'Component4_Property5', 'W3P5', 'Component1_Property7']\n",
      "✅ No transformation applied to target 'BlendProperty7' (skewness: -0.47)\n"
     ]
    },
    {
     "data": {
      "application/vnd.jupyter.widget-view+json": {
       "model_id": "ee5efa62448f49558f17d4a27eff0470",
       "version_major": 2,
       "version_minor": 0
      },
      "text/plain": [
       "  0%|          | 0/200 [00:00<?, ?it/s]"
      ]
     },
     "metadata": {},
     "output_type": "display_data"
    },
    {
     "name": "stdout",
     "output_type": "stream",
     "text": [
      "Trial 0: MAPE = 0.3121: BEST: 0.3121\n",
      "Trial 50: MAPE = 0.3121: BEST: 0.3119\n",
      "Trial 100: MAPE = 0.3121: BEST: 0.3115\n",
      "Trial 150: MAPE = 0.3122: BEST: 0.3115\n",
      "\n",
      "Best MAPE for BlendProperty7: 0.2782\n",
      "Best params for BlendProperty7:\n",
      "{'kernel': 'Matern', 'const_scale': 3.543265383088894, 'const_bias': 4.9635450647153965, 'matern_nu': 1.5, 'alpha': 4.913055312535452e-05, 'n_restarts_optimizer': 1, 'normalize_y': False}\n",
      "\n",
      "['Component5_fraction', 'Component2_fraction', 'W4P8', 'Component4_fraction', 'W3P8', 'W1P8', 'Component3_fraction', 'W2P9', 'W5P7', 'Component1_fraction', 'W2P8', 'W1P9', 'Component4_Property8', 'W4P7', 'W3P9', 'W5P5']\n",
      "✅ No transformation applied to target 'BlendProperty8' (skewness: 0.09)\n"
     ]
    },
    {
     "data": {
      "application/vnd.jupyter.widget-view+json": {
       "model_id": "60803987f4514faf886355517de06116",
       "version_major": 2,
       "version_minor": 0
      },
      "text/plain": [
       "  0%|          | 0/200 [00:00<?, ?it/s]"
      ]
     },
     "metadata": {},
     "output_type": "display_data"
    },
    {
     "name": "stdout",
     "output_type": "stream",
     "text": [
      "Trial 0: MAPE = 0.2411: BEST: 0.2411\n",
      "Trial 50: MAPE = 0.3189: BEST: 0.2071\n",
      "Trial 100: MAPE = 0.2950: BEST: 0.2071\n",
      "Trial 150: MAPE = 0.2411: BEST: 0.2061\n"
     ]
    },
    {
     "name": "stderr",
     "output_type": "stream",
     "text": [
      "IOPub message rate exceeded.\n",
      "The Jupyter server will temporarily stop sending output\n",
      "to the client in order to avoid crashing it.\n",
      "To change this limit, set the config variable\n",
      "`--ServerApp.iopub_msg_rate_limit`.\n",
      "\n",
      "Current values:\n",
      "ServerApp.iopub_msg_rate_limit=1000.0 (msgs/sec)\n",
      "ServerApp.rate_limit_window=3.0 (secs)\n",
      "\n"
     ]
    }
   ],
   "source": [
    "for target in TARGETS:\n",
    "     \n",
    "    X_train, y_train, X_val, y_val, y_scaler = get_data(target)\n",
    "\n",
    "    study = optuna.create_study(direction=\"minimize\")\n",
    "    study.optimize(lambda trial: objective(trial, X_train, y_train, X_val, y_val), n_trials=N_TRIALS, callbacks=[log_callback],\n",
    "                   n_jobs=12,show_progress_bar=True)\n",
    "\n",
    "    print(f\"\\nBest MAPE for {target}: {study.best_value:.4f}\")\n",
    "    print(f\"Best params for {target}:\\n{study.best_params}\\n\")\n",
    "    \n",
    "    complete_params = {**study.best_params, **fixed_params}\n",
    "    \n",
    "    # Save best params (skip model training for now)\n",
    "    os.makedirs(model_dir, exist_ok=True)\n",
    "    with open(os.path.join(model_dir, f\"best_params_{target}_updated_plain.json\"), \"w\") as f:\n",
    "        json.dump(complete_params, f, indent=2)"
   ]
  },
  {
   "cell_type": "code",
   "execution_count": 21,
   "id": "ffed8a51-d079-419d-a62c-560ab462d8c8",
   "metadata": {},
   "outputs": [
    {
     "ename": "SyntaxError",
     "evalue": "invalid syntax (2279706546.py, line 1)",
     "output_type": "error",
     "traceback": [
      "  \u001b[36mCell\u001b[39m\u001b[36m \u001b[39m\u001b[32mIn[21]\u001b[39m\u001b[32m, line 1\u001b[39m\n\u001b[31m    \u001b[39m\u001b[31mest MAPE for BlendProperty3: 0.5227\u001b[39m\n        ^\n\u001b[31mSyntaxError\u001b[39m\u001b[31m:\u001b[39m invalid syntax\n"
     ]
    }
   ],
   "source": [
    "# est MAPE for BlendProperty3: 0.5227\n",
    "# Best MAPE for BlendProperty5: 0.6535"
   ]
  },
  {
   "cell_type": "code",
   "execution_count": null,
   "id": "e7230117-bbca-4776-a093-f11c5298cb56",
   "metadata": {},
   "outputs": [],
   "source": []
  }
 ],
 "metadata": {
  "kernelspec": {
   "display_name": "Python (myenv_3.12)\n",
   "language": "python",
   "name": "myenv_3.12"
  },
  "language_info": {
   "codemirror_mode": {
    "name": "ipython",
    "version": 3
   },
   "file_extension": ".py",
   "mimetype": "text/x-python",
   "name": "python",
   "nbconvert_exporter": "python",
   "pygments_lexer": "ipython3",
   "version": "3.12.11"
  }
 },
 "nbformat": 4,
 "nbformat_minor": 5
}
